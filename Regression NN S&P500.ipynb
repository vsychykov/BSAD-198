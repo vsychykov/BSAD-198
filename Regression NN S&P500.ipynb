{
 "cells": [
  {
   "cell_type": "code",
   "execution_count": 1,
   "metadata": {},
   "outputs": [],
   "source": [
    "from __future__ import absolute_import, division, print_function, unicode_literals\n",
    "\n",
    "import pathlib\n",
    "\n",
    "import matplotlib.pyplot as plt #graphs\n",
    "import numpy as np # matrix\n",
    "import pandas as pd\n",
    "import seaborn as sns #graphs\n",
    "\n",
    "import tensorflow as tf\n",
    "\n",
    "from tensorflow import keras\n",
    "from tensorflow.keras import layers\n",
    "from numpy import sqrt\n",
    "\n",
    "from sklearn.model_selection import train_test_split\n",
    "from tensorflow.keras import Sequential\n",
    "from tensorflow.keras.layers import Dense\n",
    "from sklearn.preprocessing import StandardScaler\n",
    "\n",
    "# \n",
    "import tensorflow_docs as tfdocs\n",
    "import tensorflow_docs.plots\n",
    "import tensorflow_docs.modeling\n",
    "\n"
   ]
  },
  {
   "cell_type": "code",
   "execution_count": 2,
   "metadata": {},
   "outputs": [
    {
     "data": {
      "text/html": [
       "<div>\n",
       "<style scoped>\n",
       "    .dataframe tbody tr th:only-of-type {\n",
       "        vertical-align: middle;\n",
       "    }\n",
       "\n",
       "    .dataframe tbody tr th {\n",
       "        vertical-align: top;\n",
       "    }\n",
       "\n",
       "    .dataframe thead th {\n",
       "        text-align: right;\n",
       "    }\n",
       "</style>\n",
       "<table border=\"1\" class=\"dataframe\">\n",
       "  <thead>\n",
       "    <tr style=\"text-align: right;\">\n",
       "      <th></th>\n",
       "      <th>DATE</th>\n",
       "      <th>Unemployment (#11)</th>\n",
       "      <th>Inflation (CPI URBAN Monthly Percent Change)</th>\n",
       "      <th>Industrial Production Yearly Percent Change</th>\n",
       "      <th>SP500PreviousMonth</th>\n",
       "      <th>Credit Spread (BAA minus 10-year Treasury)</th>\n",
       "      <th>Term Structure (10-year minus 3-month)</th>\n",
       "      <th>SP500Return</th>\n",
       "    </tr>\n",
       "  </thead>\n",
       "  <tbody>\n",
       "    <tr>\n",
       "      <th>784</th>\n",
       "      <td>2018-08-01</td>\n",
       "      <td>0.038</td>\n",
       "      <td>0.003512</td>\n",
       "      <td>0.052799</td>\n",
       "      <td>0.036022</td>\n",
       "      <td>0.0188</td>\n",
       "      <td>0.0086</td>\n",
       "      <td>0.030263</td>\n",
       "    </tr>\n",
       "    <tr>\n",
       "      <th>785</th>\n",
       "      <td>2018-09-01</td>\n",
       "      <td>0.037</td>\n",
       "      <td>0.018185</td>\n",
       "      <td>0.054326</td>\n",
       "      <td>0.030263</td>\n",
       "      <td>0.0188</td>\n",
       "      <td>0.0087</td>\n",
       "      <td>0.004294</td>\n",
       "    </tr>\n",
       "    <tr>\n",
       "      <th>786</th>\n",
       "      <td>2018-10-01</td>\n",
       "      <td>0.038</td>\n",
       "      <td>0.031357</td>\n",
       "      <td>0.040994</td>\n",
       "      <td>0.004294</td>\n",
       "      <td>0.0192</td>\n",
       "      <td>0.0090</td>\n",
       "      <td>-0.069403</td>\n",
       "    </tr>\n",
       "    <tr>\n",
       "      <th>787</th>\n",
       "      <td>2018-11-01</td>\n",
       "      <td>0.037</td>\n",
       "      <td>-0.018872</td>\n",
       "      <td>0.039789</td>\n",
       "      <td>-0.069403</td>\n",
       "      <td>0.0210</td>\n",
       "      <td>0.0079</td>\n",
       "      <td>0.017859</td>\n",
       "    </tr>\n",
       "    <tr>\n",
       "      <th>788</th>\n",
       "      <td>2018-12-01</td>\n",
       "      <td>0.039</td>\n",
       "      <td>-0.059013</td>\n",
       "      <td>0.038749</td>\n",
       "      <td>0.017859</td>\n",
       "      <td>0.0230</td>\n",
       "      <td>0.0046</td>\n",
       "      <td>-0.091777</td>\n",
       "    </tr>\n",
       "  </tbody>\n",
       "</table>\n",
       "</div>"
      ],
      "text/plain": [
       "           DATE  Unemployment (#11)  \\\n",
       "784  2018-08-01               0.038   \n",
       "785  2018-09-01               0.037   \n",
       "786  2018-10-01               0.038   \n",
       "787  2018-11-01               0.037   \n",
       "788  2018-12-01               0.039   \n",
       "\n",
       "     Inflation (CPI URBAN Monthly Percent Change)  \\\n",
       "784                                      0.003512   \n",
       "785                                      0.018185   \n",
       "786                                      0.031357   \n",
       "787                                     -0.018872   \n",
       "788                                     -0.059013   \n",
       "\n",
       "     Industrial Production Yearly Percent Change  SP500PreviousMonth  \\\n",
       "784                                     0.052799            0.036022   \n",
       "785                                     0.054326            0.030263   \n",
       "786                                     0.040994            0.004294   \n",
       "787                                     0.039789           -0.069403   \n",
       "788                                     0.038749            0.017859   \n",
       "\n",
       "     Credit Spread (BAA minus 10-year Treasury)  \\\n",
       "784                                      0.0188   \n",
       "785                                      0.0188   \n",
       "786                                      0.0192   \n",
       "787                                      0.0210   \n",
       "788                                      0.0230   \n",
       "\n",
       "     Term Structure (10-year minus 3-month)  SP500Return  \n",
       "784                                  0.0086     0.030263  \n",
       "785                                  0.0087     0.004294  \n",
       "786                                  0.0090    -0.069403  \n",
       "787                                  0.0079     0.017859  \n",
       "788                                  0.0046    -0.091777  "
      ]
     },
     "execution_count": 2,
     "metadata": {},
     "output_type": "execute_result"
    }
   ],
   "source": [
    "raw_dataset = pd.read_csv('ML SP500 raw.csv', sep=',', header=0)\n",
    "\n",
    "dataset = raw_dataset.copy()\n",
    "dataset.tail()"
   ]
  },
  {
   "cell_type": "code",
   "execution_count": 3,
   "metadata": {},
   "outputs": [
    {
     "data": {
      "text/plain": [
       "DATE                                            0\n",
       "Unemployment (#11)                              0\n",
       "Inflation (CPI URBAN Monthly Percent Change)    0\n",
       "Industrial Production Yearly Percent Change     0\n",
       "SP500PreviousMonth                              0\n",
       "Credit Spread (BAA minus 10-year Treasury)      0\n",
       "Term Structure (10-year minus 3-month)          0\n",
       "SP500Return                                     0\n",
       "dtype: int64"
      ]
     },
     "execution_count": 3,
     "metadata": {},
     "output_type": "execute_result"
    }
   ],
   "source": [
    "dataset.isna().sum()"
   ]
  },
  {
   "cell_type": "code",
   "execution_count": 4,
   "metadata": {},
   "outputs": [
    {
     "data": {
      "text/html": [
       "<div>\n",
       "<style scoped>\n",
       "    .dataframe tbody tr th:only-of-type {\n",
       "        vertical-align: middle;\n",
       "    }\n",
       "\n",
       "    .dataframe tbody tr th {\n",
       "        vertical-align: top;\n",
       "    }\n",
       "\n",
       "    .dataframe thead th {\n",
       "        text-align: right;\n",
       "    }\n",
       "</style>\n",
       "<table border=\"1\" class=\"dataframe\">\n",
       "  <thead>\n",
       "    <tr style=\"text-align: right;\">\n",
       "      <th></th>\n",
       "      <th>Unemployment (#11)</th>\n",
       "      <th>Inflation (CPI URBAN Monthly Percent Change)</th>\n",
       "      <th>Industrial Production Yearly Percent Change</th>\n",
       "      <th>SP500PreviousMonth</th>\n",
       "      <th>Credit Spread (BAA minus 10-year Treasury)</th>\n",
       "      <th>Term Structure (10-year minus 3-month)</th>\n",
       "      <th>SP500Return</th>\n",
       "    </tr>\n",
       "  </thead>\n",
       "  <tbody>\n",
       "    <tr>\n",
       "      <th>784</th>\n",
       "      <td>0.038</td>\n",
       "      <td>0.003512</td>\n",
       "      <td>0.052799</td>\n",
       "      <td>0.036022</td>\n",
       "      <td>0.0188</td>\n",
       "      <td>0.0086</td>\n",
       "      <td>0.030263</td>\n",
       "    </tr>\n",
       "    <tr>\n",
       "      <th>785</th>\n",
       "      <td>0.037</td>\n",
       "      <td>0.018185</td>\n",
       "      <td>0.054326</td>\n",
       "      <td>0.030263</td>\n",
       "      <td>0.0188</td>\n",
       "      <td>0.0087</td>\n",
       "      <td>0.004294</td>\n",
       "    </tr>\n",
       "    <tr>\n",
       "      <th>786</th>\n",
       "      <td>0.038</td>\n",
       "      <td>0.031357</td>\n",
       "      <td>0.040994</td>\n",
       "      <td>0.004294</td>\n",
       "      <td>0.0192</td>\n",
       "      <td>0.0090</td>\n",
       "      <td>-0.069403</td>\n",
       "    </tr>\n",
       "    <tr>\n",
       "      <th>787</th>\n",
       "      <td>0.037</td>\n",
       "      <td>-0.018872</td>\n",
       "      <td>0.039789</td>\n",
       "      <td>-0.069403</td>\n",
       "      <td>0.0210</td>\n",
       "      <td>0.0079</td>\n",
       "      <td>0.017859</td>\n",
       "    </tr>\n",
       "    <tr>\n",
       "      <th>788</th>\n",
       "      <td>0.039</td>\n",
       "      <td>-0.059013</td>\n",
       "      <td>0.038749</td>\n",
       "      <td>0.017859</td>\n",
       "      <td>0.0230</td>\n",
       "      <td>0.0046</td>\n",
       "      <td>-0.091777</td>\n",
       "    </tr>\n",
       "  </tbody>\n",
       "</table>\n",
       "</div>"
      ],
      "text/plain": [
       "     Unemployment (#11)  Inflation (CPI URBAN Monthly Percent Change)  \\\n",
       "784               0.038                                      0.003512   \n",
       "785               0.037                                      0.018185   \n",
       "786               0.038                                      0.031357   \n",
       "787               0.037                                     -0.018872   \n",
       "788               0.039                                     -0.059013   \n",
       "\n",
       "     Industrial Production Yearly Percent Change  SP500PreviousMonth  \\\n",
       "784                                     0.052799            0.036022   \n",
       "785                                     0.054326            0.030263   \n",
       "786                                     0.040994            0.004294   \n",
       "787                                     0.039789           -0.069403   \n",
       "788                                     0.038749            0.017859   \n",
       "\n",
       "     Credit Spread (BAA minus 10-year Treasury)  \\\n",
       "784                                      0.0188   \n",
       "785                                      0.0188   \n",
       "786                                      0.0192   \n",
       "787                                      0.0210   \n",
       "788                                      0.0230   \n",
       "\n",
       "     Term Structure (10-year minus 3-month)  SP500Return  \n",
       "784                                  0.0086     0.030263  \n",
       "785                                  0.0087     0.004294  \n",
       "786                                  0.0090    -0.069403  \n",
       "787                                  0.0079     0.017859  \n",
       "788                                  0.0046    -0.091777  "
      ]
     },
     "execution_count": 4,
     "metadata": {},
     "output_type": "execute_result"
    }
   ],
   "source": [
    "#dataset = pd.get_dummies(dataset, prefix='', prefix_sep='')\n",
    "dataset.pop(\"DATE\")\n",
    "dataset.tail()"
   ]
  },
  {
   "cell_type": "code",
   "execution_count": 5,
   "metadata": {},
   "outputs": [],
   "source": [
    "train_dataset = dataset.sample(frac=0.8,random_state=0)\n",
    "test_dataset = dataset.drop(train_dataset.index)"
   ]
  },
  {
   "cell_type": "code",
   "execution_count": 6,
   "metadata": {},
   "outputs": [
    {
     "data": {
      "text/html": [
       "<div>\n",
       "<style scoped>\n",
       "    .dataframe tbody tr th:only-of-type {\n",
       "        vertical-align: middle;\n",
       "    }\n",
       "\n",
       "    .dataframe tbody tr th {\n",
       "        vertical-align: top;\n",
       "    }\n",
       "\n",
       "    .dataframe thead th {\n",
       "        text-align: right;\n",
       "    }\n",
       "</style>\n",
       "<table border=\"1\" class=\"dataframe\">\n",
       "  <thead>\n",
       "    <tr style=\"text-align: right;\">\n",
       "      <th></th>\n",
       "      <th>count</th>\n",
       "      <th>mean</th>\n",
       "      <th>std</th>\n",
       "      <th>min</th>\n",
       "      <th>25%</th>\n",
       "      <th>50%</th>\n",
       "      <th>75%</th>\n",
       "      <th>max</th>\n",
       "    </tr>\n",
       "  </thead>\n",
       "  <tbody>\n",
       "    <tr>\n",
       "      <th>Unemployment (#11)</th>\n",
       "      <td>631.0</td>\n",
       "      <td>0.059035</td>\n",
       "      <td>0.016101</td>\n",
       "      <td>0.025000</td>\n",
       "      <td>0.048000</td>\n",
       "      <td>0.056000</td>\n",
       "      <td>0.070000</td>\n",
       "      <td>0.108000</td>\n",
       "    </tr>\n",
       "    <tr>\n",
       "      <th>Inflation (CPI URBAN Monthly Percent Change)</th>\n",
       "      <td>631.0</td>\n",
       "      <td>0.003566</td>\n",
       "      <td>0.029373</td>\n",
       "      <td>-0.116168</td>\n",
       "      <td>-0.007042</td>\n",
       "      <td>0.000000</td>\n",
       "      <td>0.013254</td>\n",
       "      <td>0.275085</td>\n",
       "    </tr>\n",
       "    <tr>\n",
       "      <th>Industrial Production Yearly Percent Change</th>\n",
       "      <td>631.0</td>\n",
       "      <td>0.026470</td>\n",
       "      <td>0.052263</td>\n",
       "      <td>-0.166431</td>\n",
       "      <td>0.005601</td>\n",
       "      <td>0.031113</td>\n",
       "      <td>0.058282</td>\n",
       "      <td>0.196118</td>\n",
       "    </tr>\n",
       "    <tr>\n",
       "      <th>SP500PreviousMonth</th>\n",
       "      <td>631.0</td>\n",
       "      <td>0.007649</td>\n",
       "      <td>0.041931</td>\n",
       "      <td>-0.217630</td>\n",
       "      <td>-0.017529</td>\n",
       "      <td>0.010091</td>\n",
       "      <td>0.034924</td>\n",
       "      <td>0.163047</td>\n",
       "    </tr>\n",
       "    <tr>\n",
       "      <th>Credit Spread (BAA minus 10-year Treasury)</th>\n",
       "      <td>631.0</td>\n",
       "      <td>0.019096</td>\n",
       "      <td>0.008474</td>\n",
       "      <td>0.002900</td>\n",
       "      <td>0.012400</td>\n",
       "      <td>0.018200</td>\n",
       "      <td>0.024600</td>\n",
       "      <td>0.060100</td>\n",
       "    </tr>\n",
       "    <tr>\n",
       "      <th>Term Structure (10-year minus 3-month)</th>\n",
       "      <td>631.0</td>\n",
       "      <td>0.014932</td>\n",
       "      <td>0.011641</td>\n",
       "      <td>-0.026500</td>\n",
       "      <td>0.006500</td>\n",
       "      <td>0.014700</td>\n",
       "      <td>0.024100</td>\n",
       "      <td>0.044200</td>\n",
       "    </tr>\n",
       "  </tbody>\n",
       "</table>\n",
       "</div>"
      ],
      "text/plain": [
       "                                              count      mean       std  \\\n",
       "Unemployment (#11)                            631.0  0.059035  0.016101   \n",
       "Inflation (CPI URBAN Monthly Percent Change)  631.0  0.003566  0.029373   \n",
       "Industrial Production Yearly Percent Change   631.0  0.026470  0.052263   \n",
       "SP500PreviousMonth                            631.0  0.007649  0.041931   \n",
       "Credit Spread (BAA minus 10-year Treasury)    631.0  0.019096  0.008474   \n",
       "Term Structure (10-year minus 3-month)        631.0  0.014932  0.011641   \n",
       "\n",
       "                                                   min       25%       50%  \\\n",
       "Unemployment (#11)                            0.025000  0.048000  0.056000   \n",
       "Inflation (CPI URBAN Monthly Percent Change) -0.116168 -0.007042  0.000000   \n",
       "Industrial Production Yearly Percent Change  -0.166431  0.005601  0.031113   \n",
       "SP500PreviousMonth                           -0.217630 -0.017529  0.010091   \n",
       "Credit Spread (BAA minus 10-year Treasury)    0.002900  0.012400  0.018200   \n",
       "Term Structure (10-year minus 3-month)       -0.026500  0.006500  0.014700   \n",
       "\n",
       "                                                   75%       max  \n",
       "Unemployment (#11)                            0.070000  0.108000  \n",
       "Inflation (CPI URBAN Monthly Percent Change)  0.013254  0.275085  \n",
       "Industrial Production Yearly Percent Change   0.058282  0.196118  \n",
       "SP500PreviousMonth                            0.034924  0.163047  \n",
       "Credit Spread (BAA minus 10-year Treasury)    0.024600  0.060100  \n",
       "Term Structure (10-year minus 3-month)        0.024100  0.044200  "
      ]
     },
     "execution_count": 6,
     "metadata": {},
     "output_type": "execute_result"
    }
   ],
   "source": [
    "train_stats = train_dataset.describe()\n",
    "train_stats.pop(\"SP500Return\")\n",
    "train_stats = train_stats.transpose()\n",
    "train_stats"
   ]
  },
  {
   "cell_type": "code",
   "execution_count": 7,
   "metadata": {},
   "outputs": [],
   "source": [
    "train_labels = train_dataset.pop('SP500Return')\n",
    "test_labels = test_dataset.pop('SP500Return')"
   ]
  },
  {
   "cell_type": "code",
   "execution_count": 8,
   "metadata": {},
   "outputs": [],
   "source": [
    "def norm(x):\n",
    "  return (x - train_stats['mean']) / train_stats['std']\n",
    "\n",
    "normed_train_data = norm(train_dataset)\n",
    "normed_test_data = norm(test_dataset)"
   ]
  },
  {
   "cell_type": "code",
   "execution_count": 9,
   "metadata": {},
   "outputs": [],
   "source": [
    "def build_model():\n",
    "  model = keras.Sequential([\n",
    "    layers.Dense(6, activation='tanh', input_shape=[len(train_dataset.keys())]),\n",
    "    layers.Dense(6, activation='tanh'),\n",
    "    layers.Dense(1)\n",
    "  ])\n",
    "\n",
    "  optimizer = tf.keras.optimizers.RMSprop(0.001)\n",
    "\n",
    "  model.compile(loss='mse',\n",
    "                optimizer=optimizer,\n",
    "                metrics=['mae', 'mse'])\n",
    "  return model"
   ]
  },
  {
   "cell_type": "code",
   "execution_count": 10,
   "metadata": {},
   "outputs": [
    {
     "name": "stdout",
     "output_type": "stream",
     "text": [
      "Model: \"sequential\"\n",
      "_________________________________________________________________\n",
      "Layer (type)                 Output Shape              Param #   \n",
      "=================================================================\n",
      "dense (Dense)                (None, 6)                 42        \n",
      "_________________________________________________________________\n",
      "dense_1 (Dense)              (None, 6)                 42        \n",
      "_________________________________________________________________\n",
      "dense_2 (Dense)              (None, 1)                 7         \n",
      "=================================================================\n",
      "Total params: 91\n",
      "Trainable params: 91\n",
      "Non-trainable params: 0\n",
      "_________________________________________________________________\n"
     ]
    }
   ],
   "source": [
    "model = build_model()\n",
    "model.summary()"
   ]
  },
  {
   "cell_type": "code",
   "execution_count": 11,
   "metadata": {},
   "outputs": [
    {
     "data": {
      "text/plain": [
       "array([[-0.0394522 ],\n",
       "       [ 0.5440747 ],\n",
       "       [-0.7354527 ],\n",
       "       [ 0.9006826 ],\n",
       "       [-0.42977792],\n",
       "       [ 0.7994043 ],\n",
       "       [-0.06791535],\n",
       "       [-0.15962684],\n",
       "       [ 0.10715709],\n",
       "       [-0.12348616]], dtype=float32)"
      ]
     },
     "execution_count": 11,
     "metadata": {},
     "output_type": "execute_result"
    }
   ],
   "source": [
    "example_batch = normed_train_data[:10]\n",
    "example_result = model.predict(example_batch)\n",
    "example_result"
   ]
  },
  {
   "cell_type": "code",
   "execution_count": 21,
   "metadata": {},
   "outputs": [
    {
     "data": {
      "text/html": [
       "<div>\n",
       "<style scoped>\n",
       "    .dataframe tbody tr th:only-of-type {\n",
       "        vertical-align: middle;\n",
       "    }\n",
       "\n",
       "    .dataframe tbody tr th {\n",
       "        vertical-align: top;\n",
       "    }\n",
       "\n",
       "    .dataframe thead th {\n",
       "        text-align: right;\n",
       "    }\n",
       "</style>\n",
       "<table border=\"1\" class=\"dataframe\">\n",
       "  <thead>\n",
       "    <tr style=\"text-align: right;\">\n",
       "      <th></th>\n",
       "      <th>Unemployment (#11)</th>\n",
       "      <th>Inflation (CPI URBAN Monthly Percent Change)</th>\n",
       "      <th>Industrial Production Yearly Percent Change</th>\n",
       "      <th>SP500PreviousMonth</th>\n",
       "      <th>Credit Spread (BAA minus 10-year Treasury)</th>\n",
       "      <th>Term Structure (10-year minus 3-month)</th>\n",
       "    </tr>\n",
       "  </thead>\n",
       "  <tbody>\n",
       "    <tr>\n",
       "      <th>453</th>\n",
       "      <td>0.308381</td>\n",
       "      <td>-0.986698</td>\n",
       "      <td>-0.669181</td>\n",
       "      <td>0.409687</td>\n",
       "      <td>0.531505</td>\n",
       "      <td>0.323676</td>\n",
       "    </tr>\n",
       "    <tr>\n",
       "      <th>85</th>\n",
       "      <td>-0.499040</td>\n",
       "      <td>-1.101112</td>\n",
       "      <td>-0.528330</td>\n",
       "      <td>-0.600446</td>\n",
       "      <td>-1.156072</td>\n",
       "      <td>-0.372127</td>\n",
       "    </tr>\n",
       "    <tr>\n",
       "      <th>545</th>\n",
       "      <td>-0.809587</td>\n",
       "      <td>-0.435543</td>\n",
       "      <td>0.377430</td>\n",
       "      <td>-3.659495</td>\n",
       "      <td>0.437095</td>\n",
       "      <td>-1.110881</td>\n",
       "    </tr>\n",
       "    <tr>\n",
       "      <th>312</th>\n",
       "      <td>-0.064275</td>\n",
       "      <td>0.914180</td>\n",
       "      <td>0.025709</td>\n",
       "      <td>1.132873</td>\n",
       "      <td>-0.896445</td>\n",
       "      <td>-1.523209</td>\n",
       "    </tr>\n",
       "    <tr>\n",
       "      <th>334</th>\n",
       "      <td>0.929475</td>\n",
       "      <td>2.583910</td>\n",
       "      <td>-0.971949</td>\n",
       "      <td>-1.273324</td>\n",
       "      <td>0.319082</td>\n",
       "      <td>-2.657111</td>\n",
       "    </tr>\n",
       "    <tr>\n",
       "      <th>14</th>\n",
       "      <td>-0.188493</td>\n",
       "      <td>-0.121405</td>\n",
       "      <td>-2.011716</td>\n",
       "      <td>0.602408</td>\n",
       "      <td>-0.943650</td>\n",
       "      <td>0.212004</td>\n",
       "    </tr>\n",
       "    <tr>\n",
       "      <th>196</th>\n",
       "      <td>-1.492790</td>\n",
       "      <td>-0.121405</td>\n",
       "      <td>0.484685</td>\n",
       "      <td>-1.617596</td>\n",
       "      <td>-0.872843</td>\n",
       "      <td>-1.531799</td>\n",
       "    </tr>\n",
       "    <tr>\n",
       "      <th>235</th>\n",
       "      <td>-0.374822</td>\n",
       "      <td>0.250671</td>\n",
       "      <td>1.596072</td>\n",
       "      <td>0.039776</td>\n",
       "      <td>-0.235576</td>\n",
       "      <td>0.005840</td>\n",
       "    </tr>\n",
       "    <tr>\n",
       "      <th>55</th>\n",
       "      <td>-0.499040</td>\n",
       "      <td>-0.121405</td>\n",
       "      <td>-1.205850</td>\n",
       "      <td>-0.947022</td>\n",
       "      <td>-0.636818</td>\n",
       "      <td>-0.930488</td>\n",
       "    </tr>\n",
       "    <tr>\n",
       "      <th>31</th>\n",
       "      <td>-1.058024</td>\n",
       "      <td>-0.121405</td>\n",
       "      <td>2.027806</td>\n",
       "      <td>-0.908754</td>\n",
       "      <td>-1.439302</td>\n",
       "      <td>-0.724324</td>\n",
       "    </tr>\n",
       "  </tbody>\n",
       "</table>\n",
       "</div>"
      ],
      "text/plain": [
       "     Unemployment (#11)  Inflation (CPI URBAN Monthly Percent Change)  \\\n",
       "453            0.308381                                     -0.986698   \n",
       "85            -0.499040                                     -1.101112   \n",
       "545           -0.809587                                     -0.435543   \n",
       "312           -0.064275                                      0.914180   \n",
       "334            0.929475                                      2.583910   \n",
       "14            -0.188493                                     -0.121405   \n",
       "196           -1.492790                                     -0.121405   \n",
       "235           -0.374822                                      0.250671   \n",
       "55            -0.499040                                     -0.121405   \n",
       "31            -1.058024                                     -0.121405   \n",
       "\n",
       "     Industrial Production Yearly Percent Change  SP500PreviousMonth  \\\n",
       "453                                    -0.669181            0.409687   \n",
       "85                                     -0.528330           -0.600446   \n",
       "545                                     0.377430           -3.659495   \n",
       "312                                     0.025709            1.132873   \n",
       "334                                    -0.971949           -1.273324   \n",
       "14                                     -2.011716            0.602408   \n",
       "196                                     0.484685           -1.617596   \n",
       "235                                     1.596072            0.039776   \n",
       "55                                     -1.205850           -0.947022   \n",
       "31                                      2.027806           -0.908754   \n",
       "\n",
       "     Credit Spread (BAA minus 10-year Treasury)  \\\n",
       "453                                    0.531505   \n",
       "85                                    -1.156072   \n",
       "545                                    0.437095   \n",
       "312                                   -0.896445   \n",
       "334                                    0.319082   \n",
       "14                                    -0.943650   \n",
       "196                                   -0.872843   \n",
       "235                                   -0.235576   \n",
       "55                                    -0.636818   \n",
       "31                                    -1.439302   \n",
       "\n",
       "     Term Structure (10-year minus 3-month)  \n",
       "453                                0.323676  \n",
       "85                                -0.372127  \n",
       "545                               -1.110881  \n",
       "312                               -1.523209  \n",
       "334                               -2.657111  \n",
       "14                                 0.212004  \n",
       "196                               -1.531799  \n",
       "235                                0.005840  \n",
       "55                                -0.930488  \n",
       "31                                -0.724324  "
      ]
     },
     "execution_count": 21,
     "metadata": {},
     "output_type": "execute_result"
    }
   ],
   "source": [
    "normed_train_data[:10]"
   ]
  },
  {
   "cell_type": "code",
   "execution_count": 13,
   "metadata": {},
   "outputs": [
    {
     "name": "stdout",
     "output_type": "stream",
     "text": [
      "\n",
      "Epoch: 0, loss:0.1829,  mae:0.3240,  mse:0.1829,  val_loss:0.1701,  val_mae:0.2943,  val_mse:0.1701,  \n",
      "...................................................................................................."
     ]
    }
   ],
   "source": [
    "EPOCHS = 100\n",
    "\n",
    "history = model.fit(\n",
    "  normed_train_data, train_labels,\n",
    "  epochs=EPOCHS, validation_split = 0.2, verbose=0,\n",
    "  callbacks=[tfdocs.modeling.EpochDots()])"
   ]
  },
  {
   "cell_type": "code",
   "execution_count": 14,
   "metadata": {},
   "outputs": [
    {
     "data": {
      "text/html": [
       "<div>\n",
       "<style scoped>\n",
       "    .dataframe tbody tr th:only-of-type {\n",
       "        vertical-align: middle;\n",
       "    }\n",
       "\n",
       "    .dataframe tbody tr th {\n",
       "        vertical-align: top;\n",
       "    }\n",
       "\n",
       "    .dataframe thead th {\n",
       "        text-align: right;\n",
       "    }\n",
       "</style>\n",
       "<table border=\"1\" class=\"dataframe\">\n",
       "  <thead>\n",
       "    <tr style=\"text-align: right;\">\n",
       "      <th></th>\n",
       "      <th>loss</th>\n",
       "      <th>mae</th>\n",
       "      <th>mse</th>\n",
       "      <th>val_loss</th>\n",
       "      <th>val_mae</th>\n",
       "      <th>val_mse</th>\n",
       "      <th>epoch</th>\n",
       "    </tr>\n",
       "  </thead>\n",
       "  <tbody>\n",
       "    <tr>\n",
       "      <th>95</th>\n",
       "      <td>0.001595</td>\n",
       "      <td>0.031175</td>\n",
       "      <td>0.001595</td>\n",
       "      <td>0.002598</td>\n",
       "      <td>0.036684</td>\n",
       "      <td>0.002598</td>\n",
       "      <td>95</td>\n",
       "    </tr>\n",
       "    <tr>\n",
       "      <th>96</th>\n",
       "      <td>0.001568</td>\n",
       "      <td>0.030776</td>\n",
       "      <td>0.001568</td>\n",
       "      <td>0.002602</td>\n",
       "      <td>0.037928</td>\n",
       "      <td>0.002602</td>\n",
       "      <td>96</td>\n",
       "    </tr>\n",
       "    <tr>\n",
       "      <th>97</th>\n",
       "      <td>0.001587</td>\n",
       "      <td>0.030680</td>\n",
       "      <td>0.001587</td>\n",
       "      <td>0.002544</td>\n",
       "      <td>0.036545</td>\n",
       "      <td>0.002544</td>\n",
       "      <td>97</td>\n",
       "    </tr>\n",
       "    <tr>\n",
       "      <th>98</th>\n",
       "      <td>0.001577</td>\n",
       "      <td>0.031110</td>\n",
       "      <td>0.001577</td>\n",
       "      <td>0.002550</td>\n",
       "      <td>0.037031</td>\n",
       "      <td>0.002550</td>\n",
       "      <td>98</td>\n",
       "    </tr>\n",
       "    <tr>\n",
       "      <th>99</th>\n",
       "      <td>0.001570</td>\n",
       "      <td>0.030861</td>\n",
       "      <td>0.001570</td>\n",
       "      <td>0.002597</td>\n",
       "      <td>0.037778</td>\n",
       "      <td>0.002597</td>\n",
       "      <td>99</td>\n",
       "    </tr>\n",
       "  </tbody>\n",
       "</table>\n",
       "</div>"
      ],
      "text/plain": [
       "        loss       mae       mse  val_loss   val_mae   val_mse  epoch\n",
       "95  0.001595  0.031175  0.001595  0.002598  0.036684  0.002598     95\n",
       "96  0.001568  0.030776  0.001568  0.002602  0.037928  0.002602     96\n",
       "97  0.001587  0.030680  0.001587  0.002544  0.036545  0.002544     97\n",
       "98  0.001577  0.031110  0.001577  0.002550  0.037031  0.002550     98\n",
       "99  0.001570  0.030861  0.001570  0.002597  0.037778  0.002597     99"
      ]
     },
     "execution_count": 14,
     "metadata": {},
     "output_type": "execute_result"
    }
   ],
   "source": [
    "# Visualize the model's training progress using the stats stored in the history object.\n",
    "hist = pd.DataFrame(history.history)\n",
    "hist['epoch'] = history.epoch\n",
    "hist.tail()"
   ]
  },
  {
   "cell_type": "code",
   "execution_count": 15,
   "metadata": {},
   "outputs": [
    {
     "data": {
      "text/plain": [
       "Text(0, 0.5, 'MAE [SP500Return]')"
      ]
     },
     "execution_count": 15,
     "metadata": {},
     "output_type": "execute_result"
    },
    {
     "data": {
      "image/png": "[encoded data removed]",
      "text/plain": [
       "<Figure size 432x288 with 1 Axes>"
      ]
     },
     "metadata": {
      "needs_background": "light"
     },
     "output_type": "display_data"
    }
   ],
   "source": [
    "plotter = tfdocs.plots.HistoryPlotter(smoothing_std=2)\n",
    "plotter.plot({'Basic': history}, metric = \"mae\")\n",
    "#plt.ylim([0, 0.05])\n",
    "plt.ylabel('MAE [SP500Return]')"
   ]
  },
  {
   "cell_type": "code",
   "execution_count": 16,
   "metadata": {},
   "outputs": [
    {
     "data": {
      "text/plain": [
       "Text(0, 0.5, 'MSE [SP500Return^2]')"
      ]
     },
     "execution_count": 16,
     "metadata": {},
     "output_type": "execute_result"
    },
    {
     "data": {
      "image/png": "[encoded data removed]",
      "text/plain": [
       "<Figure size 432x288 with 1 Axes>"
      ]
     },
     "metadata": {
      "needs_background": "light"
     },
     "output_type": "display_data"
    }
   ],
   "source": [
    "plotter.plot({'Basic': history}, metric = \"mse\")\n",
    "#plt.ylim([0, 0.05])\n",
    "plt.ylabel('MSE [SP500Return^2]')"
   ]
  },
  {
   "cell_type": "code",
   "execution_count": 17,
   "metadata": {},
   "outputs": [
    {
     "name": "stdout",
     "output_type": "stream",
     "text": [
      "158/158 - 0s - loss: 0.0018 - mae: 0.0319 - mse: 0.0018\n",
      "Testing set Mean Abs Error:  0.03 SP500Return\n"
     ]
    }
   ],
   "source": [
    "loss, mae, mse = model.evaluate(normed_test_data, test_labels, verbose=2)\n",
    "\n",
    "print(\"Testing set Mean Abs Error: {:5.2f} SP500Return\".format(mae))"
   ]
  },
  {
   "cell_type": "code",
   "execution_count": 18,
   "metadata": {},
   "outputs": [
    {
     "data": {
      "image/png": "[encoded data removed]",
      "text/plain": [
       "<Figure size 432x288 with 1 Axes>"
      ]
     },
     "metadata": {
      "needs_background": "light"
     },
     "output_type": "display_data"
    }
   ],
   "source": [
    "test_predictions = model.predict(normed_test_data).flatten()\n",
    "\n",
    "a = plt.axes(aspect='equal')\n",
    "plt.scatter(test_labels, test_predictions)\n",
    "plt.xlabel('True Values [SP500Return]')\n",
    "plt.ylabel('Predictions [SP500Return]')\n",
    "lims = [-0.05, 0.05]\n",
    "plt.xlim(lims)\n",
    "plt.ylim(lims)\n",
    "_ = plt.plot(lims, lims)"
   ]
  },
  {
   "cell_type": "code",
   "execution_count": 19,
   "metadata": {},
   "outputs": [
    {
     "data": {
      "image/png": "[encoded data removed]",
      "text/plain": [
       "<Figure size 432x288 with 1 Axes>"
      ]
     },
     "metadata": {
      "needs_background": "light"
     },
     "output_type": "display_data"
    }
   ],
   "source": [
    "error = test_predictions - test_labels\n",
    "plt.hist(error, bins = 25)\n",
    "plt.xlabel(\"Prediction Error [SP500Return]\")\n",
    "_ = plt.ylabel(\"Count\")"
   ]
  },
  {
   "cell_type": "code",
   "execution_count": 20,
   "metadata": {},
   "outputs": [
    {
     "name": "stdout",
     "output_type": "stream",
     "text": [
      "Predicted: 0.0068\n"
     ]
    }
   ],
   "source": [
    "#row = [0.027, -0.007874, 0.11985184, -0.023552085, 0.0082 , 0.0064]\n",
    "row = [0.026,0.016129,0.16828723,-0.016299999,0.0093,0.0089]\n",
    "\n",
    "yhat = model.predict([row])\n",
    "print('Predicted: %.4f' % yhat)"
   ]
  }
 ],
 "metadata": {
  "kernelspec": {
   "display_name": "Python 3",
   "language": "python",
   "name": "python3"
  },
  "language_info": {
   "codemirror_mode": {
    "name": "ipython",
    "version": 3
   },
   "file_extension": ".py",
   "mimetype": "text/x-python",
   "name": "python",
   "nbconvert_exporter": "python",
   "pygments_lexer": "ipython3",
   "version": "3.7.3"
  }
 },
 "nbformat": 4,
 "nbformat_minor": 2
}
